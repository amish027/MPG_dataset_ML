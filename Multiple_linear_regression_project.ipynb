{
 "cells": [
  {
   "cell_type": "markdown",
   "id": "039b3f85",
   "metadata": {},
   "source": [
    "# Multiple Regression"
   ]
  },
  {
   "cell_type": "code",
   "execution_count": 5,
   "id": "e5d47be8",
   "metadata": {},
   "outputs": [],
   "source": [
    "import pandas as pd\n",
    "import seaborn as sns\n",
    "import matplotlib.pyplot as plt\n",
    "from sklearn.linear_model import LinearRegression"
   ]
  },
  {
   "cell_type": "code",
   "execution_count": 9,
   "id": "7ab926f7",
   "metadata": {},
   "outputs": [],
   "source": [
    "data = pd.read_csv('https://raw.githubusercontent.com/DataScience75/Batch-94/main/mpg.csv')"
   ]
  },
  {
   "cell_type": "code",
   "execution_count": 15,
   "id": "05a81ec6",
   "metadata": {},
   "outputs": [
    {
     "name": "stdout",
     "output_type": "stream",
     "text": [
      "    mpg  cylinders  displacement  horsepower  weight  acceleration  \\\n",
      "0  18.0          8         307.0       130.0    3504          12.0   \n",
      "1  15.0          8         350.0       165.0    3693          11.5   \n",
      "\n",
      "   model_year origin                       name  \n",
      "0          70    usa  chevrolet chevelle malibu  \n",
      "1          70    usa          buick skylark 320  \n"
     ]
    }
   ],
   "source": [
    "print(data.head(2))"
   ]
  },
  {
   "cell_type": "code",
   "execution_count": 16,
   "id": "e5d3f6af",
   "metadata": {},
   "outputs": [
    {
     "name": "stdout",
     "output_type": "stream",
     "text": [
      "mpg             0\n",
      "cylinders       0\n",
      "displacement    0\n",
      "horsepower      6\n",
      "weight          0\n",
      "acceleration    0\n",
      "model_year      0\n",
      "origin          0\n",
      "name            0\n",
      "dtype: int64\n"
     ]
    }
   ],
   "source": [
    "print(data.isnull().sum())"
   ]
  },
  {
   "cell_type": "code",
   "execution_count": 19,
   "id": "846d2fbf",
   "metadata": {},
   "outputs": [
    {
     "data": {
      "text/plain": [
       "(398, 9)"
      ]
     },
     "execution_count": 19,
     "metadata": {},
     "output_type": "execute_result"
    }
   ],
   "source": [
    "data.shape"
   ]
  },
  {
   "cell_type": "code",
   "execution_count": 113,
   "id": "e2882553",
   "metadata": {},
   "outputs": [
    {
     "data": {
      "text/plain": [
       "Index(['mpg', 'cylinders', 'displacement', 'horsepower', 'weight',\n",
       "       'acceleration', 'model_year', 'origin', 'name'],\n",
       "      dtype='object')"
      ]
     },
     "execution_count": 113,
     "metadata": {},
     "output_type": "execute_result"
    }
   ],
   "source": [
    "data.columns"
   ]
  },
  {
   "cell_type": "code",
   "execution_count": 114,
   "id": "8cc468f5",
   "metadata": {},
   "outputs": [],
   "source": [
    "x= data[['cylinders', 'displacement', 'weight', 'acceleration']]\n",
    "y= data['mpg']"
   ]
  },
  {
   "cell_type": "code",
   "execution_count": 115,
   "id": "97492918",
   "metadata": {},
   "outputs": [],
   "source": [
    "from sklearn.model_selection import train_test_split "
   ]
  },
  {
   "cell_type": "code",
   "execution_count": 118,
   "id": "0b3107d7",
   "metadata": {},
   "outputs": [],
   "source": [
    "x_train, x_test, y_train, y_test = train_test_split(x, y, test_size= 0.15, random_state = 42)"
   ]
  },
  {
   "cell_type": "code",
   "execution_count": 135,
   "id": "523d9dda",
   "metadata": {},
   "outputs": [
    {
     "data": {
      "text/html": [
       "<div>\n",
       "<style scoped>\n",
       "    .dataframe tbody tr th:only-of-type {\n",
       "        vertical-align: middle;\n",
       "    }\n",
       "\n",
       "    .dataframe tbody tr th {\n",
       "        vertical-align: top;\n",
       "    }\n",
       "\n",
       "    .dataframe thead th {\n",
       "        text-align: right;\n",
       "    }\n",
       "</style>\n",
       "<table border=\"1\" class=\"dataframe\">\n",
       "  <thead>\n",
       "    <tr style=\"text-align: right;\">\n",
       "      <th></th>\n",
       "      <th>cylinders</th>\n",
       "      <th>displacement</th>\n",
       "      <th>weight</th>\n",
       "      <th>acceleration</th>\n",
       "    </tr>\n",
       "  </thead>\n",
       "  <tbody>\n",
       "    <tr>\n",
       "      <th>124</th>\n",
       "      <td>8</td>\n",
       "      <td>350.0</td>\n",
       "      <td>3664</td>\n",
       "      <td>11.0</td>\n",
       "    </tr>\n",
       "    <tr>\n",
       "      <th>181</th>\n",
       "      <td>4</td>\n",
       "      <td>91.0</td>\n",
       "      <td>1795</td>\n",
       "      <td>17.5</td>\n",
       "    </tr>\n",
       "  </tbody>\n",
       "</table>\n",
       "</div>"
      ],
      "text/plain": [
       "     cylinders  displacement  weight  acceleration\n",
       "124          8         350.0    3664          11.0\n",
       "181          4          91.0    1795          17.5"
      ]
     },
     "execution_count": 135,
     "metadata": {},
     "output_type": "execute_result"
    }
   ],
   "source": [
    "x_train.head(2)"
   ]
  },
  {
   "cell_type": "raw",
   "id": "b08ea62b",
   "metadata": {},
   "source": [
    "x_train.shape, x_test.shape, y_train.shape, y_test.shape"
   ]
  },
  {
   "cell_type": "code",
   "execution_count": 120,
   "id": "25ff2ac5",
   "metadata": {},
   "outputs": [],
   "source": [
    "model= LinearRegression()"
   ]
  },
  {
   "cell_type": "code",
   "execution_count": 121,
   "id": "f3019b86",
   "metadata": {},
   "outputs": [],
   "source": [
    "model_train = model.fit(x_train , y_train)"
   ]
  },
  {
   "cell_type": "code",
   "execution_count": 122,
   "id": "855c0441",
   "metadata": {},
   "outputs": [],
   "source": [
    "pred= model.predict(x_test)"
   ]
  },
  {
   "cell_type": "code",
   "execution_count": 123,
   "id": "dc2e863a",
   "metadata": {},
   "outputs": [
    {
     "data": {
      "text/plain": [
       "array([32.26321652, 27.07050081, 24.62868464, 15.52820708, 13.92291272,\n",
       "       30.23144994, 25.07074787,  8.88249927, 16.34863854, 24.14135355,\n",
       "       14.49793349, 30.91395079, 31.72691167, 15.90088309, 27.0922514 ,\n",
       "        8.36408933, 27.14519406, 22.56129565, 12.50350785, 31.23985477,\n",
       "       27.6599682 , 24.21394685, 23.65455427, 30.28654068, 18.12344252,\n",
       "       31.16016667, 29.09097887, 25.62485576, 19.92203778,  8.57625664,\n",
       "       25.41154985, 30.68465672, 15.93122064, 28.81974649, 30.84576671,\n",
       "       11.93623154, 26.72990831, 18.78780698, 12.35580815, 29.50406783,\n",
       "       24.97854685, 32.17081138, 24.64705228, 11.04396924, 27.22373786,\n",
       "       29.30120216, 28.76790502, 26.0832668 , 28.62703097, 29.58307883,\n",
       "       28.17060706, 30.94567978, 29.03030808, 11.48230497, 24.78737277,\n",
       "       11.09323294, 14.9599316 , 25.9494657 , 28.55608649, 21.34685072])"
      ]
     },
     "execution_count": 123,
     "metadata": {},
     "output_type": "execute_result"
    }
   ],
   "source": [
    "pred"
   ]
  },
  {
   "cell_type": "code",
   "execution_count": 124,
   "id": "b43a4576",
   "metadata": {},
   "outputs": [],
   "source": [
    "from sklearn.metrics import r2_score, mean_squared_error "
   ]
  },
  {
   "cell_type": "code",
   "execution_count": 125,
   "id": "ce6b4291",
   "metadata": {},
   "outputs": [
    {
     "data": {
      "text/plain": [
       "0.710873968534173"
      ]
     },
     "execution_count": 125,
     "metadata": {},
     "output_type": "execute_result"
    }
   ],
   "source": [
    "r2_score(y_test,pred) # around 65% is the accuracy of the model"
   ]
  },
  {
   "cell_type": "code",
   "execution_count": 126,
   "id": "f44a9f18",
   "metadata": {},
   "outputs": [
    {
     "data": {
      "text/plain": [
       "16.20341308116429"
      ]
     },
     "execution_count": 126,
     "metadata": {},
     "output_type": "execute_result"
    }
   ],
   "source": [
    "mean_squared_error(y_test, pred)"
   ]
  },
  {
   "cell_type": "code",
   "execution_count": 127,
   "id": "424962e6",
   "metadata": {},
   "outputs": [
    {
     "data": {
      "text/plain": [
       "array([-0.08938956, -0.01287849, -0.00600423,  0.13689428])"
      ]
     },
     "execution_count": 127,
     "metadata": {},
     "output_type": "execute_result"
    }
   ],
   "source": [
    "model.coef_ #multiple slopes"
   ]
  },
  {
   "cell_type": "code",
   "execution_count": 128,
   "id": "995b0c7c",
   "metadata": {},
   "outputs": [
    {
     "data": {
      "text/plain": [
       "42.18835347605257"
      ]
     },
     "execution_count": 128,
     "metadata": {},
     "output_type": "execute_result"
    }
   ],
   "source": [
    "model.intercept_"
   ]
  },
  {
   "cell_type": "code",
   "execution_count": null,
   "id": "68073391",
   "metadata": {},
   "outputs": [],
   "source": []
  },
  {
   "cell_type": "code",
   "execution_count": 130,
   "id": "33629941",
   "metadata": {},
   "outputs": [],
   "source": [
    "m1= model.coef_[0]\n",
    "m2= model.coef_[1]\n",
    "m3= model.coef_[2]\n",
    "m4= model.coef_[3]"
   ]
  },
  {
   "cell_type": "code",
   "execution_count": 131,
   "id": "76850277",
   "metadata": {},
   "outputs": [],
   "source": [
    "# x1 is cylinders , x2 is displacement ...."
   ]
  },
  {
   "cell_type": "code",
   "execution_count": 132,
   "id": "dbf0eea6",
   "metadata": {},
   "outputs": [],
   "source": [
    "x1 = 7\n",
    "x2= 312\n",
    "x3= 3500\n",
    "x4= 14"
   ]
  },
  {
   "cell_type": "code",
   "execution_count": 133,
   "id": "bc3615c4",
   "metadata": {},
   "outputs": [],
   "source": [
    "y = m1*x1+ m2*x2+ m3*x3+ m4*x4 +  model.intercept_"
   ]
  },
  {
   "cell_type": "code",
   "execution_count": 134,
   "id": "dd659ab6",
   "metadata": {},
   "outputs": [
    {
     "data": {
      "text/plain": [
       "18.446245118413998"
      ]
     },
     "execution_count": 134,
     "metadata": {},
     "output_type": "execute_result"
    }
   ],
   "source": [
    "y"
   ]
  },
  {
   "cell_type": "code",
   "execution_count": null,
   "id": "a5f697de",
   "metadata": {},
   "outputs": [],
   "source": []
  }
 ],
 "metadata": {
  "kernelspec": {
   "display_name": "Python 3 (ipykernel)",
   "language": "python",
   "name": "python3"
  },
  "language_info": {
   "codemirror_mode": {
    "name": "ipython",
    "version": 3
   },
   "file_extension": ".py",
   "mimetype": "text/x-python",
   "name": "python",
   "nbconvert_exporter": "python",
   "pygments_lexer": "ipython3",
   "version": "3.11.5"
  }
 },
 "nbformat": 4,
 "nbformat_minor": 5
}
